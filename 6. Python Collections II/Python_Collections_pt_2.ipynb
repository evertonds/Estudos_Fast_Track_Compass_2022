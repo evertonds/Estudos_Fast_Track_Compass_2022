{
  "nbformat": 4,
  "nbformat_minor": 0,
  "metadata": {
    "colab": {
      "name": "Python Collections pt 2",
      "provenance": [],
      "authorship_tag": "ABX9TyNwVLgPMyVvqUlrzGXqSye6",
      "include_colab_link": true
    },
    "kernelspec": {
      "name": "python3",
      "display_name": "Python 3"
    },
    "language_info": {
      "name": "python"
    }
  },
  "cells": [
    {
      "cell_type": "markdown",
      "metadata": {
        "id": "view-in-github",
        "colab_type": "text"
      },
      "source": [
        "<a href=\"https://colab.research.google.com/github/evertonds/Estudos_Fast_Track_Compass_2022/blob/main/6.%20Python%20Collections%20II/Python_Collections_pt_2.ipynb\" target=\"_parent\"><img src=\"https://colab.research.google.com/assets/colab-badge.svg\" alt=\"Open In Colab\"/></a>"
      ]
    },
    {
      "cell_type": "markdown",
      "source": [
        "#Python Collections - Parte 2\n",
        "\n",
        "\n",
        "---\n",
        "\n",
        "Notebook criado para dar continuidade aos cursos de Python na Alura. \n",
        "\n",
        "Endereço Github - 6. Python Collections II/Python_Collections_pt_2.ipynb\n"
      ],
      "metadata": {
        "id": "wKcptLhg3sqQ"
      }
    },
    {
      "cell_type": "code",
      "source": [
        "usuarios_data_science = [15, 23, 43, 56]\n",
        "usuarios_machine_learning = [13, 23, 56, 42]"
      ],
      "metadata": {
        "id": "ZkyeZNbJ7DiX"
      },
      "execution_count": 2,
      "outputs": []
    },
    {
      "cell_type": "code",
      "source": [
        "assistiram = usuarios_data_science.copy()\n",
        "assistiram"
      ],
      "metadata": {
        "colab": {
          "base_uri": "https://localhost:8080/"
        },
        "id": "jYenESWD7Fvm",
        "outputId": "133af75a-ffe2-4967-9669-6302323b9186"
      },
      "execution_count": 3,
      "outputs": [
        {
          "output_type": "execute_result",
          "data": {
            "text/plain": [
              "[15, 23, 43, 56]"
            ]
          },
          "metadata": {},
          "execution_count": 3
        }
      ]
    },
    {
      "cell_type": "code",
      "source": [
        "assistiram = usuarios_data_science.copy()\n",
        "assistiram.extend(usuarios_machine_learning)\n",
        "assistiram"
      ],
      "metadata": {
        "colab": {
          "base_uri": "https://localhost:8080/"
        },
        "id": "K-8JzOXa7Huy",
        "outputId": "4b03e0c3-0ea0-4acb-a3e3-916c9f1933af"
      },
      "execution_count": 4,
      "outputs": [
        {
          "output_type": "execute_result",
          "data": {
            "text/plain": [
              "[15, 23, 43, 56, 13, 23, 56, 42]"
            ]
          },
          "metadata": {},
          "execution_count": 4
        }
      ]
    },
    {
      "cell_type": "code",
      "source": [
        "len(assistiram)"
      ],
      "metadata": {
        "colab": {
          "base_uri": "https://localhost:8080/"
        },
        "id": "18gDe-1f7KaX",
        "outputId": "917dd5c7-2d06-4925-c870-6784a4229473"
      },
      "execution_count": 5,
      "outputs": [
        {
          "output_type": "execute_result",
          "data": {
            "text/plain": [
              "8"
            ]
          },
          "metadata": {},
          "execution_count": 5
        }
      ]
    },
    {
      "cell_type": "code",
      "source": [
        "set(assistiram)"
      ],
      "metadata": {
        "colab": {
          "base_uri": "https://localhost:8080/"
        },
        "id": "bAzak43N7K08",
        "outputId": "2e938d0b-8e08-4264-b34d-be8a2ca74ff3"
      },
      "execution_count": 6,
      "outputs": [
        {
          "output_type": "execute_result",
          "data": {
            "text/plain": [
              "{13, 15, 23, 42, 43, 56}"
            ]
          },
          "metadata": {},
          "execution_count": 6
        }
      ]
    },
    {
      "cell_type": "code",
      "source": [
        "usuarios_data_science = {15, 23, 43, 56}\n",
        "usuarios_machine_learning = {13, 23, 56, 42}"
      ],
      "metadata": {
        "id": "QjltZYyV7VmK"
      },
      "execution_count": 7,
      "outputs": []
    },
    {
      "cell_type": "code",
      "source": [
        "usuarios_machine_learning"
      ],
      "metadata": {
        "colab": {
          "base_uri": "https://localhost:8080/"
        },
        "id": "XhglYJBB7Xng",
        "outputId": "8317bef3-770b-43de-e0fb-7c58cde2dded"
      },
      "execution_count": 8,
      "outputs": [
        {
          "output_type": "execute_result",
          "data": {
            "text/plain": [
              "{13, 23, 42, 56}"
            ]
          },
          "metadata": {},
          "execution_count": 8
        }
      ]
    },
    {
      "cell_type": "code",
      "source": [
        "for usuario in set(assistiram):\n",
        "  print(usuario)"
      ],
      "metadata": {
        "colab": {
          "base_uri": "https://localhost:8080/"
        },
        "id": "NzVip5jJ7d8R",
        "outputId": "24f414fc-c41f-4327-cffc-7b6bf9cd5aa5"
      },
      "execution_count": 9,
      "outputs": [
        {
          "output_type": "stream",
          "name": "stdout",
          "text": [
            "42\n",
            "43\n",
            "13\n",
            "15\n",
            "23\n",
            "56\n"
          ]
        }
      ]
    },
    {
      "cell_type": "code",
      "source": [
        "usuarios_data_science = {15, 23, 43, 56}\n",
        "usuarios_machine_learning = {13, 23, 56, 42}"
      ],
      "metadata": {
        "id": "wc2-ONiS7gzj"
      },
      "execution_count": 10,
      "outputs": []
    },
    {
      "cell_type": "code",
      "source": [
        "usuarios_data_science | usuarios_machine_learning"
      ],
      "metadata": {
        "colab": {
          "base_uri": "https://localhost:8080/"
        },
        "id": "0Nk_BdUs7i5b",
        "outputId": "2ce002ca-a2dc-4793-ae82-b7a8414f0f48"
      },
      "execution_count": 11,
      "outputs": [
        {
          "output_type": "execute_result",
          "data": {
            "text/plain": [
              "{13, 15, 23, 42, 43, 56}"
            ]
          },
          "metadata": {},
          "execution_count": 11
        }
      ]
    },
    {
      "cell_type": "code",
      "source": [
        "usuarios_data_science & usuarios_machine_learning"
      ],
      "metadata": {
        "colab": {
          "base_uri": "https://localhost:8080/"
        },
        "id": "Jl5MiFZ37-hA",
        "outputId": "5abc500a-7e2d-4668-947a-95fbbb4c12c3"
      },
      "execution_count": 12,
      "outputs": [
        {
          "output_type": "execute_result",
          "data": {
            "text/plain": [
              "{23, 56}"
            ]
          },
          "metadata": {},
          "execution_count": 12
        }
      ]
    },
    {
      "cell_type": "code",
      "source": [
        "usuarios_data_science - usuarios_machine_learning"
      ],
      "metadata": {
        "colab": {
          "base_uri": "https://localhost:8080/"
        },
        "id": "jBK9O1gt8NTJ",
        "outputId": "daf5f4b4-1bca-48d7-bdfb-861af27f917f"
      },
      "execution_count": 13,
      "outputs": [
        {
          "output_type": "execute_result",
          "data": {
            "text/plain": [
              "{15, 43}"
            ]
          },
          "metadata": {},
          "execution_count": 13
        }
      ]
    },
    {
      "cell_type": "code",
      "source": [
        "usuarios_machine_learning - usuarios_data_science"
      ],
      "metadata": {
        "colab": {
          "base_uri": "https://localhost:8080/"
        },
        "id": "ua5IbkkT11nq",
        "outputId": "43e3ac43-7566-4624-e29a-94338e9f7693"
      },
      "execution_count": 15,
      "outputs": [
        {
          "output_type": "execute_result",
          "data": {
            "text/plain": [
              "{13, 42}"
            ]
          },
          "metadata": {},
          "execution_count": 15
        }
      ]
    },
    {
      "cell_type": "code",
      "source": [
        "usuarios_data_science ^ usuarios_machine_learning"
      ],
      "metadata": {
        "colab": {
          "base_uri": "https://localhost:8080/"
        },
        "id": "njcNSqqM1mjO",
        "outputId": "8d8f98bd-3b9d-41ad-fba0-1f61395b470a"
      },
      "execution_count": 14,
      "outputs": [
        {
          "output_type": "execute_result",
          "data": {
            "text/plain": [
              "{13, 15, 42, 43}"
            ]
          },
          "metadata": {},
          "execution_count": 14
        }
      ]
    },
    {
      "cell_type": "code",
      "source": [
        "usuarios = {1,5,76,34,52,13,17}\n",
        "len(usuarios)"
      ],
      "metadata": {
        "colab": {
          "base_uri": "https://localhost:8080/"
        },
        "id": "dlf43vwy2Gvr",
        "outputId": "370453f5-6e32-4f9e-90cb-c33ec8f413dd"
      },
      "execution_count": 26,
      "outputs": [
        {
          "output_type": "execute_result",
          "data": {
            "text/plain": [
              "7"
            ]
          },
          "metadata": {},
          "execution_count": 26
        }
      ]
    },
    {
      "cell_type": "code",
      "source": [
        "type(usuarios)"
      ],
      "metadata": {
        "colab": {
          "base_uri": "https://localhost:8080/"
        },
        "id": "vkLVNC6P4PfQ",
        "outputId": "9ac07740-8801-4a3e-8a64-069eb178a48a"
      },
      "execution_count": 27,
      "outputs": [
        {
          "output_type": "execute_result",
          "data": {
            "text/plain": [
              "set"
            ]
          },
          "metadata": {},
          "execution_count": 27
        }
      ]
    },
    {
      "cell_type": "code",
      "source": [
        "usuarios.add(13)\n",
        "len(usuarios)"
      ],
      "metadata": {
        "colab": {
          "base_uri": "https://localhost:8080/"
        },
        "id": "PCMc5aRN2K8P",
        "outputId": "02661240-02e7-4a85-c72e-fe98ede1a3c4"
      },
      "execution_count": 28,
      "outputs": [
        {
          "output_type": "execute_result",
          "data": {
            "text/plain": [
              "7"
            ]
          },
          "metadata": {},
          "execution_count": 28
        }
      ]
    },
    {
      "cell_type": "code",
      "source": [
        "usuarios.add(765)\n",
        "len(usuarios)"
      ],
      "metadata": {
        "colab": {
          "base_uri": "https://localhost:8080/"
        },
        "id": "3F7qFZdz2TRV",
        "outputId": "b20d400a-36d3-45f7-92d0-67eebd566c6a"
      },
      "execution_count": 29,
      "outputs": [
        {
          "output_type": "execute_result",
          "data": {
            "text/plain": [
              "8"
            ]
          },
          "metadata": {},
          "execution_count": 29
        }
      ]
    },
    {
      "cell_type": "code",
      "source": [
        "usuarios"
      ],
      "metadata": {
        "colab": {
          "base_uri": "https://localhost:8080/"
        },
        "id": "CXgcFpWZ2VeI",
        "outputId": "ca106f00-c9c6-40be-8a02-24c23cd5aac0"
      },
      "execution_count": 30,
      "outputs": [
        {
          "output_type": "execute_result",
          "data": {
            "text/plain": [
              "{1, 5, 13, 17, 34, 52, 76, 765}"
            ]
          },
          "metadata": {},
          "execution_count": 30
        }
      ]
    },
    {
      "cell_type": "code",
      "source": [
        "usuarios = frozenset(usuarios)\n",
        "usuarios"
      ],
      "metadata": {
        "colab": {
          "base_uri": "https://localhost:8080/"
        },
        "id": "c8pJTCn22Z9k",
        "outputId": "d25b9063-b605-4b1d-dfb1-be13a087e063"
      },
      "execution_count": 31,
      "outputs": [
        {
          "output_type": "execute_result",
          "data": {
            "text/plain": [
              "frozenset({1, 5, 13, 17, 34, 52, 76, 765})"
            ]
          },
          "metadata": {},
          "execution_count": 31
        }
      ]
    },
    {
      "cell_type": "code",
      "source": [
        "type(usuarios)"
      ],
      "metadata": {
        "colab": {
          "base_uri": "https://localhost:8080/"
        },
        "id": "dRl-HZ962cI1",
        "outputId": "3f54ff89-3b96-4b5e-869a-12de32567115"
      },
      "execution_count": 32,
      "outputs": [
        {
          "output_type": "execute_result",
          "data": {
            "text/plain": [
              "frozenset"
            ]
          },
          "metadata": {},
          "execution_count": 32
        }
      ]
    },
    {
      "cell_type": "code",
      "source": [
        "usuarios.add(55)\n",
        "len(usuarios)"
      ],
      "metadata": {
        "colab": {
          "base_uri": "https://localhost:8080/",
          "height": 183
        },
        "id": "x1gRrlLu2hGX",
        "outputId": "9af91f6b-3fd0-4e30-b3bb-e2556778f385"
      },
      "execution_count": 33,
      "outputs": [
        {
          "output_type": "error",
          "ename": "AttributeError",
          "evalue": "ignored",
          "traceback": [
            "\u001b[0;31m---------------------------------------------------------------------------\u001b[0m",
            "\u001b[0;31mAttributeError\u001b[0m                            Traceback (most recent call last)",
            "\u001b[0;32m<ipython-input-33-f07d40acbec0>\u001b[0m in \u001b[0;36m<module>\u001b[0;34m()\u001b[0m\n\u001b[0;32m----> 1\u001b[0;31m \u001b[0musuarios\u001b[0m\u001b[0;34m.\u001b[0m\u001b[0madd\u001b[0m\u001b[0;34m(\u001b[0m\u001b[0;36m55\u001b[0m\u001b[0;34m)\u001b[0m\u001b[0;34m\u001b[0m\u001b[0;34m\u001b[0m\u001b[0m\n\u001b[0m\u001b[1;32m      2\u001b[0m \u001b[0mlen\u001b[0m\u001b[0;34m(\u001b[0m\u001b[0musuarios\u001b[0m\u001b[0;34m)\u001b[0m\u001b[0;34m\u001b[0m\u001b[0;34m\u001b[0m\u001b[0m\n",
            "\u001b[0;31mAttributeError\u001b[0m: 'frozenset' object has no attribute 'add'"
          ]
        }
      ]
    },
    {
      "cell_type": "code",
      "source": [
        "meu_texto = \"Bem vindo meu nome é Guilherme eu gosto muito de nomes e tenho o meu cachorro e gosto muito de cachorro\""
      ],
      "metadata": {
        "id": "bwvTtDka2i9i"
      },
      "execution_count": 34,
      "outputs": []
    },
    {
      "cell_type": "code",
      "source": [
        "set(meu_texto.split())"
      ],
      "metadata": {
        "colab": {
          "base_uri": "https://localhost:8080/"
        },
        "id": "uM7va1-h3AD_",
        "outputId": "fc3c7535-895f-4e65-948a-616661b07e58"
      },
      "execution_count": 35,
      "outputs": [
        {
          "output_type": "execute_result",
          "data": {
            "text/plain": [
              "{'Bem',\n",
              " 'Guilherme',\n",
              " 'cachorro',\n",
              " 'de',\n",
              " 'e',\n",
              " 'eu',\n",
              " 'gosto',\n",
              " 'meu',\n",
              " 'muito',\n",
              " 'nome',\n",
              " 'nomes',\n",
              " 'o',\n",
              " 'tenho',\n",
              " 'vindo',\n",
              " 'é'}"
            ]
          },
          "metadata": {},
          "execution_count": 35
        }
      ]
    },
    {
      "cell_type": "markdown",
      "source": [
        "# **Mapa** / **Dicionário**"
      ],
      "metadata": {
        "id": "bNQE6CYZ30kv"
      }
    },
    {
      "cell_type": "code",
      "source": [
        "aparicoes = {\n",
        "  \"Guilherme\" : 1,\n",
        "  \"cachorro\" : 2,\n",
        "  \"nome\" : 2,\n",
        "  \"vindo\" : 1\n",
        "}"
      ],
      "metadata": {
        "id": "GyETlJuL31wb"
      },
      "execution_count": 36,
      "outputs": []
    },
    {
      "cell_type": "code",
      "source": [
        "type(aparicoes)"
      ],
      "metadata": {
        "colab": {
          "base_uri": "https://localhost:8080/"
        },
        "id": "7qTBhGLw401_",
        "outputId": "6e247195-bd51-4170-8eae-93117b2a3864"
      },
      "execution_count": 37,
      "outputs": [
        {
          "output_type": "execute_result",
          "data": {
            "text/plain": [
              "dict"
            ]
          },
          "metadata": {},
          "execution_count": 37
        }
      ]
    },
    {
      "cell_type": "code",
      "source": [
        "aparicoes[\"Guilherme\"]"
      ],
      "metadata": {
        "colab": {
          "base_uri": "https://localhost:8080/"
        },
        "id": "Uk5K5Rvn43PO",
        "outputId": "60fa3529-6e82-4a8c-ad9d-b878d400bbce"
      },
      "execution_count": 38,
      "outputs": [
        {
          "output_type": "execute_result",
          "data": {
            "text/plain": [
              "1"
            ]
          },
          "metadata": {},
          "execution_count": 38
        }
      ]
    },
    {
      "cell_type": "code",
      "source": [
        "aparicoes[\"cachorro\"]"
      ],
      "metadata": {
        "colab": {
          "base_uri": "https://localhost:8080/"
        },
        "id": "Zo8n73EX45Az",
        "outputId": "6d0f4148-b28e-457b-9c29-2df3d9b14793"
      },
      "execution_count": 39,
      "outputs": [
        {
          "output_type": "execute_result",
          "data": {
            "text/plain": [
              "2"
            ]
          },
          "metadata": {},
          "execution_count": 39
        }
      ]
    },
    {
      "cell_type": "code",
      "source": [
        "aparicoes[\"xpto\"]"
      ],
      "metadata": {
        "colab": {
          "base_uri": "https://localhost:8080/",
          "height": 166
        },
        "id": "3W1m7t6U46jU",
        "outputId": "8326730b-1b4f-42fc-81e1-a4e439ad5759"
      },
      "execution_count": 40,
      "outputs": [
        {
          "output_type": "error",
          "ename": "KeyError",
          "evalue": "ignored",
          "traceback": [
            "\u001b[0;31m---------------------------------------------------------------------------\u001b[0m",
            "\u001b[0;31mKeyError\u001b[0m                                  Traceback (most recent call last)",
            "\u001b[0;32m<ipython-input-40-5844a27a46e4>\u001b[0m in \u001b[0;36m<module>\u001b[0;34m()\u001b[0m\n\u001b[0;32m----> 1\u001b[0;31m \u001b[0maparicoes\u001b[0m\u001b[0;34m[\u001b[0m\u001b[0;34m\"xpto\"\u001b[0m\u001b[0;34m]\u001b[0m\u001b[0;34m\u001b[0m\u001b[0;34m\u001b[0m\u001b[0m\n\u001b[0m",
            "\u001b[0;31mKeyError\u001b[0m: 'xpto'"
          ]
        }
      ]
    },
    {
      "cell_type": "code",
      "source": [
        "aparicoes.get(\"xpto\", 0)"
      ],
      "metadata": {
        "colab": {
          "base_uri": "https://localhost:8080/"
        },
        "id": "SpzoGVn-48UN",
        "outputId": "f288ec04-2b49-41d8-9008-765da84c54cf"
      },
      "execution_count": 41,
      "outputs": [
        {
          "output_type": "execute_result",
          "data": {
            "text/plain": [
              "0"
            ]
          },
          "metadata": {},
          "execution_count": 41
        }
      ]
    },
    {
      "cell_type": "code",
      "source": [
        "aparicoes.get(\"cachorro\", 0)"
      ],
      "metadata": {
        "colab": {
          "base_uri": "https://localhost:8080/"
        },
        "id": "ix2d8Iid499q",
        "outputId": "34711988-e55d-4ee6-d184-69ae76814a94"
      },
      "execution_count": 42,
      "outputs": [
        {
          "output_type": "execute_result",
          "data": {
            "text/plain": [
              "2"
            ]
          },
          "metadata": {},
          "execution_count": 42
        }
      ]
    },
    {
      "cell_type": "code",
      "source": [
        "aparicoes = dict(Guilherme = 2, cachorro = 1)\n",
        "aparicoes"
      ],
      "metadata": {
        "colab": {
          "base_uri": "https://localhost:8080/"
        },
        "id": "8PC2dINp5Ajy",
        "outputId": "0476e51f-ef5b-4765-eb06-ed3caa1929aa"
      },
      "execution_count": 43,
      "outputs": [
        {
          "output_type": "execute_result",
          "data": {
            "text/plain": [
              "{'Guilherme': 2, 'cachorro': 1}"
            ]
          },
          "metadata": {},
          "execution_count": 43
        }
      ]
    },
    {
      "cell_type": "code",
      "source": [
        "aparicoes = {\n",
        "  \"Guilherme\" : 1,\n",
        "  \"cachorro\" : 2,\n",
        "  \"nome\" : 2,\n",
        "  \"vindo\" : 1\n",
        "}"
      ],
      "metadata": {
        "id": "6HtwMuuT5CWe"
      },
      "execution_count": 44,
      "outputs": []
    },
    {
      "cell_type": "code",
      "source": [
        "aparicoes[\"Carlos\"] = 1"
      ],
      "metadata": {
        "id": "zYg9TS5i6Ovc"
      },
      "execution_count": 45,
      "outputs": []
    },
    {
      "cell_type": "code",
      "source": [
        "aparicoes"
      ],
      "metadata": {
        "colab": {
          "base_uri": "https://localhost:8080/"
        },
        "id": "Pv0ZRwtt6Pyg",
        "outputId": "f7ba6028-dcde-43e1-f412-39569d5aaa41"
      },
      "execution_count": 46,
      "outputs": [
        {
          "output_type": "execute_result",
          "data": {
            "text/plain": [
              "{'Carlos': 1, 'Guilherme': 1, 'cachorro': 2, 'nome': 2, 'vindo': 1}"
            ]
          },
          "metadata": {},
          "execution_count": 46
        }
      ]
    },
    {
      "cell_type": "code",
      "source": [
        "aparicoes[\"Carlos\"] = 2"
      ],
      "metadata": {
        "id": "u3so3Lyr6Sdc"
      },
      "execution_count": 47,
      "outputs": []
    },
    {
      "cell_type": "code",
      "source": [
        "aparicoes"
      ],
      "metadata": {
        "colab": {
          "base_uri": "https://localhost:8080/"
        },
        "id": "7wTgiVtc6TZ3",
        "outputId": "775042f9-d103-435a-ef2e-c586b06976fb"
      },
      "execution_count": 48,
      "outputs": [
        {
          "output_type": "execute_result",
          "data": {
            "text/plain": [
              "{'Carlos': 2, 'Guilherme': 1, 'cachorro': 2, 'nome': 2, 'vindo': 1}"
            ]
          },
          "metadata": {},
          "execution_count": 48
        }
      ]
    },
    {
      "cell_type": "code",
      "source": [
        "del aparicoes[\"Carlos\"]"
      ],
      "metadata": {
        "id": "X_9toUvd6WWq"
      },
      "execution_count": 49,
      "outputs": []
    },
    {
      "cell_type": "code",
      "source": [
        "aparicoes"
      ],
      "metadata": {
        "colab": {
          "base_uri": "https://localhost:8080/"
        },
        "id": "TNY5JWLY6YnW",
        "outputId": "873dc86c-8c15-4604-d2ed-9ac6d176a482"
      },
      "execution_count": 50,
      "outputs": [
        {
          "output_type": "execute_result",
          "data": {
            "text/plain": [
              "{'Guilherme': 1, 'cachorro': 2, 'nome': 2, 'vindo': 1}"
            ]
          },
          "metadata": {},
          "execution_count": 50
        }
      ]
    },
    {
      "cell_type": "code",
      "source": [
        "\"cachorro\" in aparicoes"
      ],
      "metadata": {
        "colab": {
          "base_uri": "https://localhost:8080/"
        },
        "id": "PFCuqDB46bZ8",
        "outputId": "2cf5f5f0-0fa8-4fa4-ece7-6c20dd0a660f"
      },
      "execution_count": 51,
      "outputs": [
        {
          "output_type": "execute_result",
          "data": {
            "text/plain": [
              "True"
            ]
          },
          "metadata": {},
          "execution_count": 51
        }
      ]
    },
    {
      "cell_type": "code",
      "source": [
        "\"Carlos\" in aparicoes"
      ],
      "metadata": {
        "colab": {
          "base_uri": "https://localhost:8080/"
        },
        "id": "ftqeBQVn6c1_",
        "outputId": "98d27087-606b-40c4-d717-e244dc349720"
      },
      "execution_count": 52,
      "outputs": [
        {
          "output_type": "execute_result",
          "data": {
            "text/plain": [
              "False"
            ]
          },
          "metadata": {},
          "execution_count": 52
        }
      ]
    },
    {
      "cell_type": "code",
      "source": [
        "for elemento in aparicoes:\n",
        "  print(elemento)"
      ],
      "metadata": {
        "colab": {
          "base_uri": "https://localhost:8080/"
        },
        "id": "I6FzzhUi6ep2",
        "outputId": "2fd2cc63-8bd6-42f6-9a9d-a7496568e247"
      },
      "execution_count": 53,
      "outputs": [
        {
          "output_type": "stream",
          "name": "stdout",
          "text": [
            "Guilherme\n",
            "cachorro\n",
            "nome\n",
            "vindo\n"
          ]
        }
      ]
    },
    {
      "cell_type": "code",
      "source": [
        "for elemento in aparicoes.iterkeys():\n",
        "  print(elemento)"
      ],
      "metadata": {
        "colab": {
          "base_uri": "https://localhost:8080/",
          "height": 183
        },
        "id": "lgi-0CYz7SSV",
        "outputId": "4cfde64e-18c0-4bf9-83ba-313d903cff2e"
      },
      "execution_count": 54,
      "outputs": [
        {
          "output_type": "error",
          "ename": "AttributeError",
          "evalue": "ignored",
          "traceback": [
            "\u001b[0;31m---------------------------------------------------------------------------\u001b[0m",
            "\u001b[0;31mAttributeError\u001b[0m                            Traceback (most recent call last)",
            "\u001b[0;32m<ipython-input-54-33d364e5e97f>\u001b[0m in \u001b[0;36m<module>\u001b[0;34m()\u001b[0m\n\u001b[0;32m----> 1\u001b[0;31m \u001b[0;32mfor\u001b[0m \u001b[0melemento\u001b[0m \u001b[0;32min\u001b[0m \u001b[0maparicoes\u001b[0m\u001b[0;34m.\u001b[0m\u001b[0miterkeys\u001b[0m\u001b[0;34m(\u001b[0m\u001b[0;34m)\u001b[0m\u001b[0;34m:\u001b[0m\u001b[0;34m\u001b[0m\u001b[0;34m\u001b[0m\u001b[0m\n\u001b[0m\u001b[1;32m      2\u001b[0m   \u001b[0mprint\u001b[0m\u001b[0;34m(\u001b[0m\u001b[0melemento\u001b[0m\u001b[0;34m)\u001b[0m\u001b[0;34m\u001b[0m\u001b[0;34m\u001b[0m\u001b[0m\n",
            "\u001b[0;31mAttributeError\u001b[0m: 'dict' object has no attribute 'iterkeys'"
          ]
        }
      ]
    },
    {
      "cell_type": "code",
      "source": [
        "for elemento in aparicoes.keys():\n",
        "  print(elemento)"
      ],
      "metadata": {
        "colab": {
          "base_uri": "https://localhost:8080/"
        },
        "id": "SMlNZbf37U4T",
        "outputId": "57b8bfdc-1115-46cd-bea5-1eaa4917c836"
      },
      "execution_count": 55,
      "outputs": [
        {
          "output_type": "stream",
          "name": "stdout",
          "text": [
            "Guilherme\n",
            "cachorro\n",
            "nome\n",
            "vindo\n"
          ]
        }
      ]
    },
    {
      "cell_type": "code",
      "source": [
        "for elemento in aparicoes.values():\n",
        "  print(elemento)"
      ],
      "metadata": {
        "colab": {
          "base_uri": "https://localhost:8080/"
        },
        "id": "6uYTLP3X7Wbd",
        "outputId": "2b2ae274-7c2c-482f-cac6-efab965e1f6f"
      },
      "execution_count": 56,
      "outputs": [
        {
          "output_type": "stream",
          "name": "stdout",
          "text": [
            "1\n",
            "2\n",
            "2\n",
            "1\n"
          ]
        }
      ]
    },
    {
      "cell_type": "code",
      "source": [
        "1 in aparicoes.values()"
      ],
      "metadata": {
        "colab": {
          "base_uri": "https://localhost:8080/"
        },
        "id": "TruNk2UY7X8Q",
        "outputId": "866659fb-f980-4e96-824c-c3f7c5708001"
      },
      "execution_count": 57,
      "outputs": [
        {
          "output_type": "execute_result",
          "data": {
            "text/plain": [
              "True"
            ]
          },
          "metadata": {},
          "execution_count": 57
        }
      ]
    },
    {
      "cell_type": "code",
      "source": [
        "for elemento in aparicoes.keys():\n",
        "  print(elemento, aparicoes[elemento])"
      ],
      "metadata": {
        "colab": {
          "base_uri": "https://localhost:8080/"
        },
        "id": "wVCUiZRY7Z1o",
        "outputId": "d4a17c0d-7481-44eb-c880-f2e4979f371d"
      },
      "execution_count": 58,
      "outputs": [
        {
          "output_type": "stream",
          "name": "stdout",
          "text": [
            "Guilherme 1\n",
            "cachorro 2\n",
            "nome 2\n",
            "vindo 1\n"
          ]
        }
      ]
    },
    {
      "cell_type": "code",
      "source": [
        "for elemento in aparicoes.items():\n",
        "  print(elemento)"
      ],
      "metadata": {
        "colab": {
          "base_uri": "https://localhost:8080/"
        },
        "id": "Zo4WMweb7bjo",
        "outputId": "55374fa7-aed8-470e-d785-a49c0e335cbe"
      },
      "execution_count": 59,
      "outputs": [
        {
          "output_type": "stream",
          "name": "stdout",
          "text": [
            "('Guilherme', 1)\n",
            "('cachorro', 2)\n",
            "('nome', 2)\n",
            "('vindo', 1)\n"
          ]
        }
      ]
    },
    {
      "cell_type": "code",
      "source": [
        "for chave, valor in aparicoes.items():\n",
        "  print(chave, \"=\", valor)"
      ],
      "metadata": {
        "colab": {
          "base_uri": "https://localhost:8080/"
        },
        "id": "LcJQfwCu7duR",
        "outputId": "7a5fd6b7-cebb-4503-e33d-92c43027c739"
      },
      "execution_count": 60,
      "outputs": [
        {
          "output_type": "stream",
          "name": "stdout",
          "text": [
            "Guilherme = 1\n",
            "cachorro = 2\n",
            "nome = 2\n",
            "vindo = 1\n"
          ]
        }
      ]
    },
    {
      "cell_type": "code",
      "source": [
        "[\"palavra {}\".format(chave) for chave in aparicoes.keys()]"
      ],
      "metadata": {
        "colab": {
          "base_uri": "https://localhost:8080/"
        },
        "id": "pgs46Cgh7fe0",
        "outputId": "39fb80c1-3229-4bfa-db73-eb4643db24a0"
      },
      "execution_count": 61,
      "outputs": [
        {
          "output_type": "execute_result",
          "data": {
            "text/plain": [
              "['palavra Guilherme', 'palavra cachorro', 'palavra nome', 'palavra vindo']"
            ]
          },
          "metadata": {},
          "execution_count": 61
        }
      ]
    },
    {
      "cell_type": "code",
      "source": [
        "teste = {\n",
        "  \"Everton\" : [31, 1000, 20000],\n",
        "  \"Bruna\" : [26, 1500, 10000],\n",
        "  \"Rodrigo\" : [32, 900, 8000],\n",
        "  \"Douglas\" : [33, 5000, 20000]\n",
        "}"
      ],
      "metadata": {
        "id": "Vp1AZstt7i7I"
      },
      "execution_count": 62,
      "outputs": []
    },
    {
      "cell_type": "code",
      "source": [
        "for elemento in teste.items():\n",
        "  print(elemento)"
      ],
      "metadata": {
        "colab": {
          "base_uri": "https://localhost:8080/"
        },
        "id": "JCugfiK_77PP",
        "outputId": "d6e381da-436e-4186-ae45-860cd5719575"
      },
      "execution_count": 63,
      "outputs": [
        {
          "output_type": "stream",
          "name": "stdout",
          "text": [
            "('Everton', [31, 1000, 20000])\n",
            "('Bruna', [26, 1500, 10000])\n",
            "('Rodrigo', [32, 900, 8000])\n",
            "('Douglas', [33, 5000, 20000])\n"
          ]
        }
      ]
    },
    {
      "cell_type": "code",
      "source": [
        "for elemento in teste.values():\n",
        "  print(elemento[0])"
      ],
      "metadata": {
        "colab": {
          "base_uri": "https://localhost:8080/"
        },
        "id": "DX6SlKuf8D3V",
        "outputId": "1bb7e3ff-affe-49d3-bb49-6b5eb9aa09f8"
      },
      "execution_count": 65,
      "outputs": [
        {
          "output_type": "stream",
          "name": "stdout",
          "text": [
            "31\n",
            "26\n",
            "32\n",
            "33\n"
          ]
        }
      ]
    },
    {
      "cell_type": "code",
      "source": [
        "for elemento in teste.values():\n",
        "  print(elemento[1])"
      ],
      "metadata": {
        "colab": {
          "base_uri": "https://localhost:8080/"
        },
        "id": "mmGnbI_M8OkD",
        "outputId": "dca0862b-ea04-49ad-cfa9-fe27acd57903"
      },
      "execution_count": 66,
      "outputs": [
        {
          "output_type": "stream",
          "name": "stdout",
          "text": [
            "1000\n",
            "1500\n",
            "900\n",
            "5000\n"
          ]
        }
      ]
    },
    {
      "cell_type": "code",
      "source": [
        "meu_texto = \"Bem vindo meu nome é Guilherme eu gosto muito de nomes e tenho o meu cachorro e gosto muito de cachorro\"\n",
        "meu_texto = meu_texto.lower()\n",
        "\n",
        "aparicoes = {}\n",
        "\n",
        "for palavra in meu_texto.split():\n",
        "  ate_agora = aparicoes.get(palavra, 0)\n",
        "  aparicoes[palavra] = ate_agora + 1\n",
        "\n",
        "aparicoes"
      ],
      "metadata": {
        "colab": {
          "base_uri": "https://localhost:8080/"
        },
        "id": "E8mJf-Nl-RWz",
        "outputId": "5009f49a-e943-4101-c1fc-44f42859d54b"
      },
      "execution_count": 72,
      "outputs": [
        {
          "output_type": "execute_result",
          "data": {
            "text/plain": [
              "{'bem': 1,\n",
              " 'cachorro': 2,\n",
              " 'de': 2,\n",
              " 'e': 2,\n",
              " 'eu': 1,\n",
              " 'gosto': 2,\n",
              " 'guilherme': 1,\n",
              " 'meu': 2,\n",
              " 'muito': 2,\n",
              " 'nome': 1,\n",
              " 'nomes': 1,\n",
              " 'o': 1,\n",
              " 'tenho': 1,\n",
              " 'vindo': 1,\n",
              " 'é': 1}"
            ]
          },
          "metadata": {},
          "execution_count": 72
        }
      ]
    },
    {
      "cell_type": "code",
      "source": [
        "from collections import defaultdict\n",
        "\n",
        "aparicoes = defaultdict(int)\n",
        "\n",
        "for palavra in meu_texto.split():\n",
        "  ate_agora = aparicoes.get(palavra, 0)\n",
        "  aparicoes[palavra] = ate_agora + 1\n",
        "\n",
        "aparicoes"
      ],
      "metadata": {
        "colab": {
          "base_uri": "https://localhost:8080/"
        },
        "id": "owTxEUCJ_suK",
        "outputId": "7c128dbb-06d8-4e88-ca8f-e37d4fddb86b"
      },
      "execution_count": 73,
      "outputs": [
        {
          "output_type": "execute_result",
          "data": {
            "text/plain": [
              "defaultdict(int,\n",
              "            {'bem': 1,\n",
              "             'cachorro': 2,\n",
              "             'de': 2,\n",
              "             'e': 2,\n",
              "             'eu': 1,\n",
              "             'gosto': 2,\n",
              "             'guilherme': 1,\n",
              "             'meu': 2,\n",
              "             'muito': 2,\n",
              "             'nome': 1,\n",
              "             'nomes': 1,\n",
              "             'o': 1,\n",
              "             'tenho': 1,\n",
              "             'vindo': 1,\n",
              "             'é': 1})"
            ]
          },
          "metadata": {},
          "execution_count": 73
        }
      ]
    },
    {
      "cell_type": "code",
      "source": [
        "from collections import defaultdict\n",
        "\n",
        "aparicoes = defaultdict(int)\n",
        "\n",
        "for palavra in meu_texto.split():\n",
        "  ate_agora = aparicoes[palavra]\n",
        "  aparicoes[palavra] = ate_agora + 1\n",
        "\n",
        "aparicoes"
      ],
      "metadata": {
        "colab": {
          "base_uri": "https://localhost:8080/"
        },
        "id": "jkWNdxrn_0Me",
        "outputId": "7c990886-a10e-46bf-c57d-b4f5da62f7e7"
      },
      "execution_count": 74,
      "outputs": [
        {
          "output_type": "execute_result",
          "data": {
            "text/plain": [
              "defaultdict(int,\n",
              "            {'bem': 1,\n",
              "             'cachorro': 2,\n",
              "             'de': 2,\n",
              "             'e': 2,\n",
              "             'eu': 1,\n",
              "             'gosto': 2,\n",
              "             'guilherme': 1,\n",
              "             'meu': 2,\n",
              "             'muito': 2,\n",
              "             'nome': 1,\n",
              "             'nomes': 1,\n",
              "             'o': 1,\n",
              "             'tenho': 1,\n",
              "             'vindo': 1,\n",
              "             'é': 1})"
            ]
          },
          "metadata": {},
          "execution_count": 74
        }
      ]
    },
    {
      "cell_type": "code",
      "source": [
        "dicionario = defaultdict(int)\n",
        "dicionario['guilherme']"
      ],
      "metadata": {
        "colab": {
          "base_uri": "https://localhost:8080/"
        },
        "id": "W2r1vPMmAIHm",
        "outputId": "b86bc63c-db5d-47cf-f882-c3dd9fc3f05a"
      },
      "execution_count": 75,
      "outputs": [
        {
          "output_type": "execute_result",
          "data": {
            "text/plain": [
              "0"
            ]
          },
          "metadata": {},
          "execution_count": 75
        }
      ]
    },
    {
      "cell_type": "code",
      "source": [
        "dicionario['guilherme'] = 15\n",
        "dicionario['guilherme']"
      ],
      "metadata": {
        "colab": {
          "base_uri": "https://localhost:8080/"
        },
        "id": "n7IQT7ElAKEr",
        "outputId": "df9d38ad-a88b-46a7-c412-394ce6ec7bf3"
      },
      "execution_count": 76,
      "outputs": [
        {
          "output_type": "execute_result",
          "data": {
            "text/plain": [
              "15"
            ]
          },
          "metadata": {},
          "execution_count": 76
        }
      ]
    },
    {
      "cell_type": "code",
      "source": [
        "aparicoes = defaultdict(int)\n",
        "\n",
        "for palavra in meu_texto.split():\n",
        "  aparicoes[palavra] += 1\n",
        "\n",
        "aparicoes"
      ],
      "metadata": {
        "colab": {
          "base_uri": "https://localhost:8080/"
        },
        "id": "h568irqrDOQY",
        "outputId": "a5e4ec73-c020-4855-f0d3-20f220c4c40c"
      },
      "execution_count": 77,
      "outputs": [
        {
          "output_type": "execute_result",
          "data": {
            "text/plain": [
              "defaultdict(int,\n",
              "            {'bem': 1,\n",
              "             'cachorro': 2,\n",
              "             'de': 2,\n",
              "             'e': 2,\n",
              "             'eu': 1,\n",
              "             'gosto': 2,\n",
              "             'guilherme': 1,\n",
              "             'meu': 2,\n",
              "             'muito': 2,\n",
              "             'nome': 1,\n",
              "             'nomes': 1,\n",
              "             'o': 1,\n",
              "             'tenho': 1,\n",
              "             'vindo': 1,\n",
              "             'é': 1})"
            ]
          },
          "metadata": {},
          "execution_count": 77
        }
      ]
    },
    {
      "cell_type": "code",
      "source": [
        "class Conta:\n",
        "  def __init__(self):\n",
        "    print(\"Criando uma conta\")"
      ],
      "metadata": {
        "id": "znx43EFeLjOq"
      },
      "execution_count": 78,
      "outputs": []
    },
    {
      "cell_type": "code",
      "source": [
        "contas = defaultdict(Conta)\n",
        "contas[15]"
      ],
      "metadata": {
        "colab": {
          "base_uri": "https://localhost:8080/"
        },
        "id": "IOn_iqawLmsd",
        "outputId": "f6445585-7c3e-4262-bb56-25da247336db"
      },
      "execution_count": 79,
      "outputs": [
        {
          "output_type": "stream",
          "name": "stdout",
          "text": [
            "Criando uma conta\n"
          ]
        },
        {
          "output_type": "execute_result",
          "data": {
            "text/plain": [
              "<__main__.Conta at 0x7f41cd192b10>"
            ]
          },
          "metadata": {},
          "execution_count": 79
        }
      ]
    },
    {
      "cell_type": "code",
      "source": [
        "contas[17]"
      ],
      "metadata": {
        "colab": {
          "base_uri": "https://localhost:8080/"
        },
        "id": "pDtaNufqLp_c",
        "outputId": "6cbb468e-cd0f-487a-9f08-409a001fe4ed"
      },
      "execution_count": 80,
      "outputs": [
        {
          "output_type": "stream",
          "name": "stdout",
          "text": [
            "Criando uma conta\n"
          ]
        },
        {
          "output_type": "execute_result",
          "data": {
            "text/plain": [
              "<__main__.Conta at 0x7f41cd186250>"
            ]
          },
          "metadata": {},
          "execution_count": 80
        }
      ]
    },
    {
      "cell_type": "code",
      "source": [
        "contas[15]"
      ],
      "metadata": {
        "colab": {
          "base_uri": "https://localhost:8080/"
        },
        "id": "pOCZ3IkoLtwA",
        "outputId": "1d24443e-cf51-4d15-98b4-8831f6869df8"
      },
      "execution_count": 81,
      "outputs": [
        {
          "output_type": "execute_result",
          "data": {
            "text/plain": [
              "<__main__.Conta at 0x7f41cd192b10>"
            ]
          },
          "metadata": {},
          "execution_count": 81
        }
      ]
    },
    {
      "cell_type": "code",
      "source": [
        "from collections import Counter\n",
        "\n",
        "aparicoes = Counter()\n",
        "for palavra in meu_texto.split():\n",
        "  aparicoes[palavra] += 1\n",
        "\n",
        "aparicoes"
      ],
      "metadata": {
        "colab": {
          "base_uri": "https://localhost:8080/"
        },
        "id": "rpmhJjZfLw0q",
        "outputId": "3e5c6af9-0bb5-40a5-ada2-ecf336e4add0"
      },
      "execution_count": 82,
      "outputs": [
        {
          "output_type": "execute_result",
          "data": {
            "text/plain": [
              "Counter({'bem': 1,\n",
              "         'cachorro': 2,\n",
              "         'de': 2,\n",
              "         'e': 2,\n",
              "         'eu': 1,\n",
              "         'gosto': 2,\n",
              "         'guilherme': 1,\n",
              "         'meu': 2,\n",
              "         'muito': 2,\n",
              "         'nome': 1,\n",
              "         'nomes': 1,\n",
              "         'o': 1,\n",
              "         'tenho': 1,\n",
              "         'vindo': 1,\n",
              "         'é': 1})"
            ]
          },
          "metadata": {},
          "execution_count": 82
        }
      ]
    },
    {
      "cell_type": "code",
      "source": [
        "aparicoes = Counter(meu_texto.split())\n",
        "\n",
        "aparicoes"
      ],
      "metadata": {
        "colab": {
          "base_uri": "https://localhost:8080/"
        },
        "id": "madMqzXvLzXz",
        "outputId": "ee1a6fb2-5fe7-413d-abc2-2772d2d923b7"
      },
      "execution_count": 83,
      "outputs": [
        {
          "output_type": "execute_result",
          "data": {
            "text/plain": [
              "Counter({'bem': 1,\n",
              "         'cachorro': 2,\n",
              "         'de': 2,\n",
              "         'e': 2,\n",
              "         'eu': 1,\n",
              "         'gosto': 2,\n",
              "         'guilherme': 1,\n",
              "         'meu': 2,\n",
              "         'muito': 2,\n",
              "         'nome': 1,\n",
              "         'nomes': 1,\n",
              "         'o': 1,\n",
              "         'tenho': 1,\n",
              "         'vindo': 1,\n",
              "         'é': 1})"
            ]
          },
          "metadata": {},
          "execution_count": 83
        }
      ]
    },
    {
      "cell_type": "markdown",
      "source": [
        "#**Testando o uso de coleções**"
      ],
      "metadata": {
        "id": "M8MCJjM2MBJK"
      }
    },
    {
      "cell_type": "code",
      "source": [
        "texto1 = \"\"\"\n",
        "Não houve um acordo coletivo na reunião de hoje (3) em um hotel em São Paulo para a formação de uma liga de clubes no Brasil. Apesar disso, oito clubes assinaram o documento da Libra, nome que tem sido dado a essa nova tentativa de união. \n",
        "Palmeiras, Corinthians, São Paulo, Santos, Red Bull Bragantino e Flamengo estavam unidos desde o princípio e ainda conseguiram o apoio de Ponte Preta e Cruzeiro. \n",
        "No estatuto desse grupo, está prevista a eleição de um Conselho quando houver 12 participantes. Se esse número não for atingido em até oito meses, a reunião dos times servirá apenas para discussão econômica\n",
        "\"\"\""
      ],
      "metadata": {
        "id": "iHrbEcnYMDoo"
      },
      "execution_count": 87,
      "outputs": []
    },
    {
      "cell_type": "code",
      "source": [
        "texto2 = \"\"\"\n",
        "Apesar da disparidade ainda muito presente entre os gêneros, as mulheres estão cada vez mais presentes no mercado tech. O artigo de hoje ressalta algumas iniciativas que deixam em evidência a luta constante para que este espaço seja cada vez mais preenchido de maneira igualitária. Mulheres que lideram movimentos que estimulam e apoiam meninas e mulheres fazem parte não só de uma transformação de gênero, mas também de caráter social.\n",
        "\n",
        "De acordo com o relatório #QuemCodaBR de 2019, 67,4% das equipes de trabalho em tecnologia registraram no máximo 10% de pessoas que moram em bairros periféricos e vulneráveis. A diversidade de gênero é o foco de mulheres que vêem na tecnologia uma oportunidade de mudar o cenário e gerar a transformação que todas nós esperamos.\n",
        "\n",
        "Esta é a segunda edição da série Mulheres em Tech, onde todo mês traremos uma reflexão sobre o mercado de tecnologia e inspirações para essa [r]evolução. Por aqui nós garantimos: juntas somos mais fortes.\n",
        "\n",
        "Continue lendo para se inspirar com o trabalho de 3 ONGs e 1 comunidade de mulheres que incentivam e fortalecem a presença feminina no mercado.\n",
        "\n",
        "\n",
        "\"\"\"\n"
      ],
      "metadata": {
        "id": "9yoyrA1-M0CC"
      },
      "execution_count": 88,
      "outputs": []
    },
    {
      "cell_type": "code",
      "source": [
        "texto1.split()"
      ],
      "metadata": {
        "colab": {
          "base_uri": "https://localhost:8080/"
        },
        "id": "nkk5z5-MNCBa",
        "outputId": "faec230d-b492-4335-96a0-10bb7a5699f1"
      },
      "execution_count": 89,
      "outputs": [
        {
          "output_type": "execute_result",
          "data": {
            "text/plain": [
              "['Não',\n",
              " 'houve',\n",
              " 'um',\n",
              " 'acordo',\n",
              " 'coletivo',\n",
              " 'na',\n",
              " 'reunião',\n",
              " 'de',\n",
              " 'hoje',\n",
              " '(3)',\n",
              " 'em',\n",
              " 'um',\n",
              " 'hotel',\n",
              " 'em',\n",
              " 'São',\n",
              " 'Paulo',\n",
              " 'para',\n",
              " 'a',\n",
              " 'formação',\n",
              " 'de',\n",
              " 'uma',\n",
              " 'liga',\n",
              " 'de',\n",
              " 'clubes',\n",
              " 'no',\n",
              " 'Brasil.',\n",
              " 'Apesar',\n",
              " 'disso,',\n",
              " 'oito',\n",
              " 'clubes',\n",
              " 'assinaram',\n",
              " 'o',\n",
              " 'documento',\n",
              " 'da',\n",
              " 'Libra,',\n",
              " 'nome',\n",
              " 'que',\n",
              " 'tem',\n",
              " 'sido',\n",
              " 'dado',\n",
              " 'a',\n",
              " 'essa',\n",
              " 'nova',\n",
              " 'tentativa',\n",
              " 'de',\n",
              " 'união.',\n",
              " 'Palmeiras,',\n",
              " 'Corinthians,',\n",
              " 'São',\n",
              " 'Paulo,',\n",
              " 'Santos,',\n",
              " 'Red',\n",
              " 'Bull',\n",
              " 'Bragantino',\n",
              " 'e',\n",
              " 'Flamengo',\n",
              " 'estavam',\n",
              " 'unidos',\n",
              " 'desde',\n",
              " 'o',\n",
              " 'princípio',\n",
              " 'e',\n",
              " 'ainda',\n",
              " 'conseguiram',\n",
              " 'o',\n",
              " 'apoio',\n",
              " 'de',\n",
              " 'Ponte',\n",
              " 'Preta',\n",
              " 'e',\n",
              " 'Cruzeiro.',\n",
              " 'No',\n",
              " 'estatuto',\n",
              " 'desse',\n",
              " 'grupo,',\n",
              " 'está',\n",
              " 'prevista',\n",
              " 'a',\n",
              " 'eleição',\n",
              " 'de',\n",
              " 'um',\n",
              " 'Conselho',\n",
              " 'quando',\n",
              " 'houver',\n",
              " '12',\n",
              " 'participantes.',\n",
              " 'Se',\n",
              " 'esse',\n",
              " 'número',\n",
              " 'não',\n",
              " 'for',\n",
              " 'atingido',\n",
              " 'em',\n",
              " 'até',\n",
              " 'oito',\n",
              " 'meses,',\n",
              " 'a',\n",
              " 'reunião',\n",
              " 'dos',\n",
              " 'times',\n",
              " 'servirá',\n",
              " 'apenas',\n",
              " 'para',\n",
              " 'discussão',\n",
              " 'econômica']"
            ]
          },
          "metadata": {},
          "execution_count": 89
        }
      ]
    },
    {
      "cell_type": "code",
      "source": [
        "Counter(texto1.lower())"
      ],
      "metadata": {
        "colab": {
          "base_uri": "https://localhost:8080/"
        },
        "id": "Y_8pCTeBNRgI",
        "outputId": "843a1813-7e84-4092-d63a-478433372b1e"
      },
      "execution_count": 91,
      "outputs": [
        {
          "output_type": "execute_result",
          "data": {
            "text/plain": [
              "Counter({'\\n': 4,\n",
              "         ' ': 104,\n",
              "         '(': 1,\n",
              "         ')': 1,\n",
              "         ',': 8,\n",
              "         '.': 4,\n",
              "         '1': 1,\n",
              "         '2': 1,\n",
              "         '3': 1,\n",
              "         'a': 52,\n",
              "         'b': 6,\n",
              "         'c': 14,\n",
              "         'd': 23,\n",
              "         'e': 57,\n",
              "         'f': 3,\n",
              "         'g': 6,\n",
              "         'h': 6,\n",
              "         'i': 34,\n",
              "         'j': 1,\n",
              "         'l': 15,\n",
              "         'm': 20,\n",
              "         'n': 31,\n",
              "         'o': 58,\n",
              "         'p': 16,\n",
              "         'q': 2,\n",
              "         'r': 27,\n",
              "         's': 40,\n",
              "         't': 25,\n",
              "         'u': 23,\n",
              "         'v': 8,\n",
              "         'z': 1,\n",
              "         'á': 2,\n",
              "         'ã': 10,\n",
              "         'ç': 2,\n",
              "         'é': 1,\n",
              "         'í': 1,\n",
              "         'ô': 1,\n",
              "         'ú': 1})"
            ]
          },
          "metadata": {},
          "execution_count": 91
        }
      ]
    },
    {
      "cell_type": "code",
      "source": [
        "aparicoes = Counter(texto1.lower())\n",
        "total_de_caracteres = sum(aparicoes.values())\n",
        "for letra, frequencia in aparicoes.items():\n",
        "    tupla=(letra, frequencia / total_de_caracteres)\n",
        "    print(tupla)"
      ],
      "metadata": {
        "colab": {
          "base_uri": "https://localhost:8080/"
        },
        "id": "_8dTiAvIO7sf",
        "outputId": "bc7d697d-ea83-47e9-e4cb-a0cf778a15f4"
      },
      "execution_count": 92,
      "outputs": [
        {
          "output_type": "stream",
          "name": "stdout",
          "text": [
            "('\\n', 0.006546644844517185)\n",
            "('n', 0.05073649754500818)\n",
            "('ã', 0.016366612111292964)\n",
            "('o', 0.09492635024549918)\n",
            "(' ', 0.1702127659574468)\n",
            "('h', 0.009819967266775777)\n",
            "('u', 0.03764320785597381)\n",
            "('v', 0.01309328968903437)\n",
            "('e', 0.09328968903436989)\n",
            "('m', 0.03273322422258593)\n",
            "('a', 0.0851063829787234)\n",
            "('c', 0.022913256955810146)\n",
            "('r', 0.044189852700491)\n",
            "('d', 0.03764320785597381)\n",
            "('l', 0.024549918166939442)\n",
            "('t', 0.04091653027823241)\n",
            "('i', 0.05564648117839607)\n",
            "('j', 0.0016366612111292963)\n",
            "('(', 0.0016366612111292963)\n",
            "('3', 0.0016366612111292963)\n",
            "(')', 0.0016366612111292963)\n",
            "('s', 0.06546644844517185)\n",
            "('p', 0.02618657937806874)\n",
            "('f', 0.004909983633387889)\n",
            "('ç', 0.0032733224222585926)\n",
            "('g', 0.009819967266775777)\n",
            "('b', 0.009819967266775777)\n",
            "('.', 0.006546644844517185)\n",
            "(',', 0.01309328968903437)\n",
            "('q', 0.0032733224222585926)\n",
            "('í', 0.0016366612111292963)\n",
            "('z', 0.0016366612111292963)\n",
            "('á', 0.0032733224222585926)\n",
            "('1', 0.0016366612111292963)\n",
            "('2', 0.0016366612111292963)\n",
            "('ú', 0.0016366612111292963)\n",
            "('é', 0.0016366612111292963)\n",
            "('ô', 0.0016366612111292963)\n"
          ]
        }
      ]
    },
    {
      "cell_type": "code",
      "source": [
        "aparicoes = Counter(texto1.lower())\n",
        "total_de_caracteres = sum(aparicoes.values())\n",
        "\n",
        "[(letra, frequencia / total_de_caracteres) for letra, frequencia in aparicoes.items()]"
      ],
      "metadata": {
        "colab": {
          "base_uri": "https://localhost:8080/"
        },
        "id": "hBzs1JdZPDvb",
        "outputId": "8c650fbc-ed4d-41e5-a0dd-8dac70a87a23"
      },
      "execution_count": 93,
      "outputs": [
        {
          "output_type": "execute_result",
          "data": {
            "text/plain": [
              "[('\\n', 0.006546644844517185),\n",
              " ('n', 0.05073649754500818),\n",
              " ('ã', 0.016366612111292964),\n",
              " ('o', 0.09492635024549918),\n",
              " (' ', 0.1702127659574468),\n",
              " ('h', 0.009819967266775777),\n",
              " ('u', 0.03764320785597381),\n",
              " ('v', 0.01309328968903437),\n",
              " ('e', 0.09328968903436989),\n",
              " ('m', 0.03273322422258593),\n",
              " ('a', 0.0851063829787234),\n",
              " ('c', 0.022913256955810146),\n",
              " ('r', 0.044189852700491),\n",
              " ('d', 0.03764320785597381),\n",
              " ('l', 0.024549918166939442),\n",
              " ('t', 0.04091653027823241),\n",
              " ('i', 0.05564648117839607),\n",
              " ('j', 0.0016366612111292963),\n",
              " ('(', 0.0016366612111292963),\n",
              " ('3', 0.0016366612111292963),\n",
              " (')', 0.0016366612111292963),\n",
              " ('s', 0.06546644844517185),\n",
              " ('p', 0.02618657937806874),\n",
              " ('f', 0.004909983633387889),\n",
              " ('ç', 0.0032733224222585926),\n",
              " ('g', 0.009819967266775777),\n",
              " ('b', 0.009819967266775777),\n",
              " ('.', 0.006546644844517185),\n",
              " (',', 0.01309328968903437),\n",
              " ('q', 0.0032733224222585926),\n",
              " ('í', 0.0016366612111292963),\n",
              " ('z', 0.0016366612111292963),\n",
              " ('á', 0.0032733224222585926),\n",
              " ('1', 0.0016366612111292963),\n",
              " ('2', 0.0016366612111292963),\n",
              " ('ú', 0.0016366612111292963),\n",
              " ('é', 0.0016366612111292963),\n",
              " ('ô', 0.0016366612111292963)]"
            ]
          },
          "metadata": {},
          "execution_count": 93
        }
      ]
    },
    {
      "cell_type": "code",
      "source": [
        "aparicoes = Counter(texto1.lower())\n",
        "total_de_caracteres = sum(aparicoes.values())\n",
        "\n",
        "proporcoes = [(letra, frequencia / total_de_caracteres) for letra, frequencia in aparicoes.items()]\n",
        "proporcoes = dict(proporcoes)\n",
        "proporcoes"
      ],
      "metadata": {
        "colab": {
          "base_uri": "https://localhost:8080/"
        },
        "id": "Z4LqY6xyPJP1",
        "outputId": "a0a47991-ed92-4439-bd18-6842edb1e774"
      },
      "execution_count": 95,
      "outputs": [
        {
          "output_type": "execute_result",
          "data": {
            "text/plain": [
              "{'\\n': 0.006546644844517185,\n",
              " ' ': 0.1702127659574468,\n",
              " '(': 0.0016366612111292963,\n",
              " ')': 0.0016366612111292963,\n",
              " ',': 0.01309328968903437,\n",
              " '.': 0.006546644844517185,\n",
              " '1': 0.0016366612111292963,\n",
              " '2': 0.0016366612111292963,\n",
              " '3': 0.0016366612111292963,\n",
              " 'a': 0.0851063829787234,\n",
              " 'b': 0.009819967266775777,\n",
              " 'c': 0.022913256955810146,\n",
              " 'd': 0.03764320785597381,\n",
              " 'e': 0.09328968903436989,\n",
              " 'f': 0.004909983633387889,\n",
              " 'g': 0.009819967266775777,\n",
              " 'h': 0.009819967266775777,\n",
              " 'i': 0.05564648117839607,\n",
              " 'j': 0.0016366612111292963,\n",
              " 'l': 0.024549918166939442,\n",
              " 'm': 0.03273322422258593,\n",
              " 'n': 0.05073649754500818,\n",
              " 'o': 0.09492635024549918,\n",
              " 'p': 0.02618657937806874,\n",
              " 'q': 0.0032733224222585926,\n",
              " 'r': 0.044189852700491,\n",
              " 's': 0.06546644844517185,\n",
              " 't': 0.04091653027823241,\n",
              " 'u': 0.03764320785597381,\n",
              " 'v': 0.01309328968903437,\n",
              " 'z': 0.0016366612111292963,\n",
              " 'á': 0.0032733224222585926,\n",
              " 'ã': 0.016366612111292964,\n",
              " 'ç': 0.0032733224222585926,\n",
              " 'é': 0.0016366612111292963,\n",
              " 'í': 0.0016366612111292963,\n",
              " 'ô': 0.0016366612111292963,\n",
              " 'ú': 0.0016366612111292963}"
            ]
          },
          "metadata": {},
          "execution_count": 95
        }
      ]
    },
    {
      "cell_type": "code",
      "source": [
        "def analisa_frequencia_de_letras(texto):\n",
        "  aparicoes = Counter(texto.lower())\n",
        "  total_de_caracteres = sum(aparicoes.values())\n",
        "\n",
        "  proporcoes = [(letra, frequencia / total_de_caracteres) for letra, frequencia in aparicoes.items()]\n",
        "  proporcoes = Counter(dict(proporcoes))\n",
        "  mais_comuns = proporcoes.most_common(10)\n",
        "  for caractere, proporcao in mais_comuns:\n",
        "    print(caractere, proporcao)"
      ],
      "metadata": {
        "id": "maz-WNPRPyDd"
      },
      "execution_count": 97,
      "outputs": []
    },
    {
      "cell_type": "code",
      "source": [
        "analisa_frequencia_de_letras(texto1)"
      ],
      "metadata": {
        "colab": {
          "base_uri": "https://localhost:8080/"
        },
        "id": "pNSSc3OzP6fF",
        "outputId": "d3be7362-3505-4f98-fefe-616d5e0355f1"
      },
      "execution_count": 98,
      "outputs": [
        {
          "output_type": "stream",
          "name": "stdout",
          "text": [
            "  0.1702127659574468\n",
            "o 0.09492635024549918\n",
            "e 0.09328968903436989\n",
            "a 0.0851063829787234\n",
            "s 0.06546644844517185\n",
            "i 0.05564648117839607\n",
            "n 0.05073649754500818\n",
            "r 0.044189852700491\n",
            "t 0.04091653027823241\n",
            "u 0.03764320785597381\n"
          ]
        }
      ]
    },
    {
      "cell_type": "code",
      "source": [
        "def analisa_frequencia_de_letras(texto):\n",
        "  aparicoes = Counter(texto.lower())\n",
        "  total_de_caracteres = sum(aparicoes.values())\n",
        "\n",
        "  proporcoes = [(letra, frequencia / total_de_caracteres) for letra, frequencia in aparicoes.items()]\n",
        "  proporcoes = Counter(dict(proporcoes))\n",
        "  mais_comuns = proporcoes.most_common(10)\n",
        "  for caractere, proporcao in mais_comuns:\n",
        "    print(\"{} => {:.2f}%\".format(caractere, proporcao * 100))\n",
        "\n",
        "\n",
        "analisa_frequencia_de_letras(texto1)"
      ],
      "metadata": {
        "colab": {
          "base_uri": "https://localhost:8080/"
        },
        "id": "VBhuo8p_QAYc",
        "outputId": "585c15a4-6bd2-40f4-9f73-99d48213beeb"
      },
      "execution_count": 99,
      "outputs": [
        {
          "output_type": "stream",
          "name": "stdout",
          "text": [
            "  => 17.02%\n",
            "o => 9.49%\n",
            "e => 9.33%\n",
            "a => 8.51%\n",
            "s => 6.55%\n",
            "i => 5.56%\n",
            "n => 5.07%\n",
            "r => 4.42%\n",
            "t => 4.09%\n",
            "u => 3.76%\n"
          ]
        }
      ]
    },
    {
      "cell_type": "code",
      "source": [
        "analisa_frequencia_de_letras(texto2)"
      ],
      "metadata": {
        "colab": {
          "base_uri": "https://localhost:8080/"
        },
        "id": "w_lZrGsIQEX3",
        "outputId": "ed46ebbf-1fb2-49a1-94a6-72e28d974a18"
      },
      "execution_count": 100,
      "outputs": [
        {
          "output_type": "stream",
          "name": "stdout",
          "text": [
            "  => 16.06%\n",
            "e => 11.51%\n",
            "a => 9.19%\n",
            "o => 6.87%\n",
            "r => 6.16%\n",
            "s => 6.07%\n",
            "i => 4.91%\n",
            "m => 4.91%\n",
            "d => 4.19%\n",
            "n => 4.19%\n"
          ]
        }
      ]
    }
  ]
}