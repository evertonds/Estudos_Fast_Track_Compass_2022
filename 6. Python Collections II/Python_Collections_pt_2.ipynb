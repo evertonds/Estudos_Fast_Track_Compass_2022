{
  "nbformat": 4,
  "nbformat_minor": 0,
  "metadata": {
    "colab": {
      "name": "Python Collections pt 2",
      "provenance": [],
      "authorship_tag": "ABX9TyNC6J/4/tNUvTkWrsZJ9Y5P",
      "include_colab_link": true
    },
    "kernelspec": {
      "name": "python3",
      "display_name": "Python 3"
    },
    "language_info": {
      "name": "python"
    }
  },
  "cells": [
    {
      "cell_type": "markdown",
      "metadata": {
        "id": "view-in-github",
        "colab_type": "text"
      },
      "source": [
        "<a href=\"https://colab.research.google.com/github/evertonds/Estudos_Fast_Track_Compass_2022/blob/main/6.%20Python%20Collections%20II/Python_Collections_pt_2.ipynb\" target=\"_parent\"><img src=\"https://colab.research.google.com/assets/colab-badge.svg\" alt=\"Open In Colab\"/></a>"
      ]
    },
    {
      "cell_type": "markdown",
      "source": [
        "#Python Collections - Parte 2\n",
        "\n",
        "\n",
        "---\n",
        "\n",
        "Notebook criado para dar continuidade aos cursos de Python na Alura. \n",
        "\n",
        "Endereço Github - 6. Python Collections II/\n"
      ],
      "metadata": {
        "id": "wKcptLhg3sqQ"
      }
    },
    {
      "cell_type": "code",
      "execution_count": null,
      "metadata": {
        "id": "kraijdVs3mZf"
      },
      "outputs": [],
      "source": [
        ""
      ]
    }
  ]
}