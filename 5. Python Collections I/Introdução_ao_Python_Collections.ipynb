{
  "nbformat": 4,
  "nbformat_minor": 0,
  "metadata": {
    "colab": {
      "name": "Introdução ao Python Collections",
      "provenance": [],
      "authorship_tag": "ABX9TyML5yURtEpeyXCoJGE8Hi0A",
      "include_colab_link": true
    },
    "kernelspec": {
      "name": "python3",
      "display_name": "Python 3"
    },
    "language_info": {
      "name": "python"
    }
  },
  "cells": [
    {
      "cell_type": "markdown",
      "metadata": {
        "id": "view-in-github",
        "colab_type": "text"
      },
      "source": [
        "<a href=\"https://colab.research.google.com/github/evertonds/Estudos_Fast_Track_Compass_2022/blob/main/5.%20Python%20Collections%20I/Introdu%C3%A7%C3%A3o_ao_Python_Collections.ipynb\" target=\"_parent\"><img src=\"https://colab.research.google.com/assets/colab-badge.svg\" alt=\"Open In Colab\"/></a>"
      ]
    },
    {
      "cell_type": "markdown",
      "source": [
        "Primeira parte do curso foi iniciada no PyCharm, mas será continuada no Google Colab, para mesclagem de plataformas e conhecimentos. "
      ],
      "metadata": {
        "id": "JDoJCPEMKDqF"
      }
    },
    {
      "cell_type": "code",
      "source": [
        ""
      ],
      "metadata": {
        "id": "HQrpa-_VKKDo"
      },
      "execution_count": null,
      "outputs": []
    }
  ]
}